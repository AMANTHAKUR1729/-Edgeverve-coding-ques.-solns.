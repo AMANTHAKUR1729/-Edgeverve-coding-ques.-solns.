{
  "nbformat": 4,
  "nbformat_minor": 0,
  "metadata": {
    "colab": {
      "name": "Edgeverve.ipynb",
      "private_outputs": true,
      "provenance": [],
      "authorship_tag": "ABX9TyPg0Fos8LwsQux2OLKhZHCW",
      "include_colab_link": true
    },
    "kernelspec": {
      "name": "python3",
      "display_name": "Python 3"
    },
    "language_info": {
      "name": "python"
    }
  },
  "cells": [
    {
      "cell_type": "markdown",
      "metadata": {
        "id": "view-in-github",
        "colab_type": "text"
      },
      "source": [
        "<a href=\"https://colab.research.google.com/github/AMANTHAKUR1729/-Edgeverve-coding-ques.-solns./blob/main/Edgeverve.ipynb\" target=\"_parent\"><img src=\"https://colab.research.google.com/assets/colab-badge.svg\" alt=\"Open In Colab\"/></a>"
      ]
    },
    {
      "cell_type": "markdown",
      "source": [
        "##1.EV_Minimise Array Cost "
      ],
      "metadata": {
        "id": "bxVtX_JCys-9"
      }
    },
    {
      "cell_type": "code",
      "execution_count": null,
      "metadata": {
        "id": "Ci57dgd4ygKy"
      },
      "outputs": [],
      "source": [
        "def gmc(arr):\n",
        "  n=len(arr)\n",
        "  m=0\n",
        "  ans=0\n",
        "  for i in range(n-1):\n",
        "    a,b=arr[i],arr[i+1]\n",
        "    m=max(m,abs(a-b))\n",
        "    ans+=(a-b)**2\n",
        "  if m%2==0 :\n",
        "    ans=ans-m**2/2\n",
        "  else:\n",
        "    ans=ans - m**2 + ((m-1)/2)**2 +((m+1)/2)**2\n",
        "  return int(ans)"
      ]
    },
    {
      "cell_type": "code",
      "source": [
        "gmc([1,3,5,2,10])"
      ],
      "metadata": {
        "id": "0PJqXlZQ0_T2"
      },
      "execution_count": null,
      "outputs": []
    },
    {
      "cell_type": "markdown",
      "source": [
        "##2.EV_Positive Prefixes"
      ],
      "metadata": {
        "id": "AlmgDKwC3SiS"
      }
    },
    {
      "cell_type": "code",
      "source": [
        "def mpp(arr):\n",
        "  a=[]\n",
        "  b=[]\n",
        "  for i in arr :\n",
        "    if i>0:\n",
        "      a.append(i)\n",
        "    else:\n",
        "      b.append(i)\n",
        "  c=a+b\n",
        "  d=0\n",
        "  aa=[]\n",
        "  for i in c:\n",
        "    d=d+i\n",
        "    aa.append(d)\n",
        "  x=[]\n",
        "  for j in aa:\n",
        "    if j>=0:\n",
        "      x.append(j)\n",
        "    g=len(set(x))\n",
        "  return g\n"
      ],
      "metadata": {
        "id": "o8DD4rjm340q"
      },
      "execution_count": null,
      "outputs": []
    },
    {
      "cell_type": "code",
      "source": [
        "\n",
        "mpp([-3,0,2,1])"
      ],
      "metadata": {
        "id": "9gW_yLt_4Nb3"
      },
      "execution_count": null,
      "outputs": []
    },
    {
      "cell_type": "code",
      "source": [
        "abs(-3.56)"
      ],
      "metadata": {
        "id": "1ukLezIq4NJO"
      },
      "execution_count": null,
      "outputs": []
    },
    {
      "cell_type": "markdown",
      "source": [
        "##3.EV_First Unique Character"
      ],
      "metadata": {
        "id": "u7kiouab4EgT"
      }
    },
    {
      "cell_type": "code",
      "source": [
        "def fuc(s):\n",
        "  x=1\n",
        "  for i in range(len(s)):\n",
        "    if s.count(s[i])==1:\n",
        "      x=i+1\n",
        "      break\n",
        "  return x\n"
      ],
      "metadata": {
        "id": "CdR4Gj5yJ3CY"
      },
      "execution_count": null,
      "outputs": []
    },
    {
      "cell_type": "code",
      "source": [
        "fuc('harder')"
      ],
      "metadata": {
        "id": "oM7rRGZBLgXq"
      },
      "execution_count": null,
      "outputs": []
    }
  ]
}